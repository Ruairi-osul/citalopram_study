{
 "cells": [
  {
   "cell_type": "code",
   "execution_count": 1,
   "metadata": {},
   "outputs": [],
   "source": [
    "import pandas as pd\n",
    "from pathlib import Path\n",
    "import numpy as np\n",
    "from ephys_queries import db_setup_core, select_spike_times, select_discrete_data\n",
    "from dotenv import load_dotenv"
   ]
  },
  {
   "cell_type": "code",
   "execution_count": 2,
   "metadata": {},
   "outputs": [],
   "source": [
    "data_dir = Path(\".\").absolute().parent / \"data\"\n",
    "fig_dir = Path(\".\").absolute().parent / \"figs\""
   ]
  },
  {
   "cell_type": "code",
   "execution_count": 3,
   "metadata": {},
   "outputs": [],
   "source": [
    "df = (\n",
    "    pd.read_csv(data_dir / \"baseline.csv\")\n",
    "    .loc[lambda x: \n",
    "         (x[\"group_name\"].isin((\n",
    "            \"chronic_saline\", \n",
    "            \"citalopram_continuation\", \n",
    "                ))\n",
    "        ) & (\n",
    "         x[\"cluster\"] != \"no_baseline\")]\n",
    ")"
   ]
  },
  {
   "cell_type": "code",
   "execution_count": 4,
   "metadata": {},
   "outputs": [],
   "source": [
    "df_response = (pd.read_csv(data_dir / \"baseshock_responses.csv\"))"
   ]
  },
  {
   "cell_type": "code",
   "execution_count": 13,
   "metadata": {},
   "outputs": [],
   "source": [
    "group_names = (\n",
    "            \"chronic_saline\", \n",
    "            \"citalopram_continuation\", \n",
    "                )\n",
    "block_name = \"base_shock\"\n",
    "t_before=300\n",
    "fs = 30000\n",
    "\n",
    "load_dotenv()\n",
    "engine, metadata = db_setup_core()"
   ]
  },
  {
   "cell_type": "code",
   "execution_count": 56,
   "metadata": {},
   "outputs": [
    {
     "data": {
      "text/html": [
       "<div>\n",
       "<style scoped>\n",
       "    .dataframe tbody tr th:only-of-type {\n",
       "        vertical-align: middle;\n",
       "    }\n",
       "\n",
       "    .dataframe tbody tr th {\n",
       "        vertical-align: top;\n",
       "    }\n",
       "\n",
       "    .dataframe thead th {\n",
       "        text-align: right;\n",
       "    }\n",
       "</style>\n",
       "<table border=\"1\" class=\"dataframe\">\n",
       "  <thead>\n",
       "    <tr style=\"text-align: right;\">\n",
       "      <th></th>\n",
       "      <th>session_name</th>\n",
       "      <th>cluster</th>\n",
       "      <th>0</th>\n",
       "    </tr>\n",
       "  </thead>\n",
       "  <tbody>\n",
       "    <tr>\n",
       "      <th>15</th>\n",
       "      <td>hamilton_19</td>\n",
       "      <td>fast_firing</td>\n",
       "      <td>6</td>\n",
       "    </tr>\n",
       "    <tr>\n",
       "      <th>16</th>\n",
       "      <td>hamilton_19</td>\n",
       "      <td>slow_irregular</td>\n",
       "      <td>19</td>\n",
       "    </tr>\n",
       "    <tr>\n",
       "      <th>17</th>\n",
       "      <td>hamilton_19</td>\n",
       "      <td>slow_regular</td>\n",
       "      <td>26</td>\n",
       "    </tr>\n",
       "  </tbody>\n",
       "</table>\n",
       "</div>"
      ],
      "text/plain": [
       "   session_name         cluster   0\n",
       "15  hamilton_19     fast_firing   6\n",
       "16  hamilton_19  slow_irregular  19\n",
       "17  hamilton_19    slow_regular  26"
      ]
     },
     "execution_count": 56,
     "metadata": {},
     "output_type": "execute_result"
    }
   ],
   "source": [
    "session_names = df[\"session_name\"].unique()\n",
    "session = np.random.choice(session_names, 1)[0]\n",
    "\n",
    "(\n",
    "    df[[\"neuron_id\", \"session_name\",\"cluster\"]]\n",
    "    .groupby(['session_name', \"cluster\"])\n",
    "    .apply(len)\n",
    "    .reset_index()\n",
    "    .loc[lambda x: x[\"session_name\"]==session]\n",
    ")"
   ]
  },
  {
   "cell_type": "code",
   "execution_count": 57,
   "metadata": {},
   "outputs": [],
   "source": [
    "# session = \"hamilton_13\""
   ]
  },
  {
   "cell_type": "code",
   "execution_count": 58,
   "metadata": {},
   "outputs": [
    {
     "data": {
      "text/plain": [
       "'base_shock'"
      ]
     },
     "execution_count": 58,
     "metadata": {},
     "output_type": "execute_result"
    }
   ],
   "source": [
    "block_name"
   ]
  },
  {
   "cell_type": "code",
   "execution_count": 59,
   "metadata": {},
   "outputs": [],
   "source": [
    "df_spikes = (\n",
    "    select_spike_times(\n",
    "        engine, metadata, \n",
    "        block_name=block_name, \n",
    "        group_names=group_names,\n",
    "        session_names=[session]\n",
    "    )\n",
    "    .assign(\n",
    "        spiketimes= lambda x: x[\"spike_time_samples\"].divide(fs)\n",
    "    )\n",
    ")\n",
    "df_events = (\n",
    "    select_discrete_data(\n",
    "        engine, metadata, \n",
    "        block_name=block_name,\n",
    "        group_names=group_names,\n",
    "    )\n",
    "    .loc[lambda x: x[\"session_name\"]==session]\n",
    "    .assign(\n",
    "        event_s= lambda x: x[\"timepoint_sample\"].divide(fs)\n",
    "    )\n",
    ")"
   ]
  },
  {
   "cell_type": "code",
   "execution_count": 60,
   "metadata": {},
   "outputs": [],
   "source": [
    "df_spikes = df_spikes.merge(df_response[[\"response_baseshock\", \"neuron_id\"]])"
   ]
  },
  {
   "cell_type": "code",
   "execution_count": 61,
   "metadata": {},
   "outputs": [
    {
     "data": {
      "text/plain": [
       "[array([1793.75666667, 1793.8372    , 1793.91186667, ..., 2400.10443333,\n",
       "        2400.14923333, 2400.16883333]),\n",
       " array([1793.90826667, 1793.98986667, 1794.12283333, ..., 2399.63646667,\n",
       "        2400.1873    , 2400.1875    ]),\n",
       " array([1793.7076    , 1793.85273333, 1794.1415    , ..., 2397.9638    ,\n",
       "        2399.15156667, 2399.92006667]),\n",
       " array([1793.99916667, 1794.15326667, 1794.97746667, ..., 2399.7638    ,\n",
       "        2399.80506667, 2400.1666    ])]"
      ]
     },
     "execution_count": 61,
     "metadata": {},
     "output_type": "execute_result"
    }
   ],
   "source": [
    "stims"
   ]
  },
  {
   "cell_type": "code",
   "execution_count": 62,
   "metadata": {},
   "outputs": [],
   "source": [
    "from spiketimes.df.conversion import df_to_list\n",
    "\n",
    "\n",
    "_, inhibs = df_to_list(df_spikes[df_spikes[\"response_baseshock\"] == \"Inhibited\"],\n",
    "               spiketimes_col=\"spiketimes\",\n",
    "               spiketrain_col=\"neuron_id\")\n",
    "\n",
    "_, stims = df_to_list(df_spikes[df_spikes[\"response_baseshock\"] == \"Stimulated\"],\n",
    "               spiketimes_col=\"spiketimes\",\n",
    "               spiketrain_col=\"neuron_id\")"
   ]
  },
  {
   "cell_type": "code",
   "execution_count": 87,
   "metadata": {},
   "outputs": [
    {
     "data": {
      "image/png": "[encoded data removed]",
      "text/plain": [
       "<Figure size 864x504 with 1 Axes>"
      ]
     },
     "metadata": {
      "needs_background": "light"
     },
     "output_type": "display_data"
    }
   ],
   "source": [
    "from spiketimes.plots import grouped_raster, add_event_vlines\n",
    "import matplotlib.pyplot as plt\n",
    "\n",
    "f, ax = plt.subplots(figsize=(12, 7))\n",
    "\n",
    "t_start = 1921.4\n",
    "t_stop = t_start + 15\n",
    "\n",
    "events = (\n",
    "    df_events[\n",
    "        (df_events[\"event_s\"] >= t_start) & (df_events[\"event_s\"] <= t_stop)]\n",
    "    [\"event_s\"].values\n",
    ")\n",
    "\n",
    "ax = grouped_raster([inhibs[1::5], stims[2::5]],\n",
    "                    [\"#31A6D9\", \"#F6931D\"],\n",
    "               t_start=t_start, t_stop=t_stop,\n",
    "                    space_between_groups=1,\n",
    "               plot_kwargs={\"s\":90},\n",
    "                   ax=ax)\n",
    "\n",
    "ax.set_yticklabels([])\n",
    "\n",
    "ax.set_xticks(ticks=np.round(events))\n",
    "ax.set_xticklabels([0, 2, 4, 6, 8, 10, 12, 14], fontsize=20)\n",
    "\n",
    "\n",
    "ax.set(frame_on=False)\n",
    "\n",
    "ax.set_ylabel(\"Unit\", fontsize=24)\n",
    "ax.set_xlabel(\"Time [sec]\", fontsize=24)\n",
    "\n",
    "add_event_vlines(ax, events)\n",
    "\n",
    "plt.tight_layout()\n",
    "plt.savefig(fig_dir / \"psth_raster.png\", transparent=True, dpi=300)"
   ]
  },
  {
   "cell_type": "code",
   "execution_count": 43,
   "metadata": {},
   "outputs": [
    {
     "data": {
      "text/plain": [
       "[]"
      ]
     },
     "execution_count": 43,
     "metadata": {},
     "output_type": "execute_result"
    }
   ],
   "source": [
    "inhibs"
   ]
  },
  {
   "cell_type": "code",
   "execution_count": 44,
   "metadata": {},
   "outputs": [
    {
     "data": {
      "text/plain": [
       "[]"
      ]
     },
     "execution_count": 44,
     "metadata": {},
     "output_type": "execute_result"
    }
   ],
   "source": [
    "stims"
   ]
  },
  {
   "cell_type": "code",
   "execution_count": null,
   "metadata": {},
   "outputs": [],
   "source": []
  }
 ],
 "metadata": {
  "kernelspec": {
   "display_name": "Python 3",
   "language": "python",
   "name": "python3"
  },
  "language_info": {
   "codemirror_mode": {
    "name": "ipython",
    "version": 3
   },
   "file_extension": ".py",
   "mimetype": "text/x-python",
   "name": "python",
   "nbconvert_exporter": "python",
   "pygments_lexer": "ipython3",
   "version": "3.8.2"
  }
 },
 "nbformat": 4,
 "nbformat_minor": 4
}
